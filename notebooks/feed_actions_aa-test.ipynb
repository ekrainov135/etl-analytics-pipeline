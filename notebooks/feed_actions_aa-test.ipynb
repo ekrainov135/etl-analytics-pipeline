{
 "cells": [
  {
   "cell_type": "markdown",
   "id": "af268240-951f-4737-ba8d-509b2efd3a69",
   "metadata": {},
   "source": [
    "Есть данные АА-теста с '2022-09-26' по '2022-10-02'. Вам нужно сделать симуляцию, как будто мы провели 10000 АА-тестов. На каждой итерации вам нужно сформировать подвыборки без повторения в 500 юзеров из 2 и 3 экспериментальной группы. Провести сравнение этих подвыборок t-testом.\n",
    "\n",
    "1. Построить гистограмму распределения получившихся 10000 p-values.\n",
    "\n",
    "2. Посчитать, какой процент p values оказался меньше либо равен 0.05\n",
    "\n",
    "3. Написать вывод по проведенному АА-тесту, корректно ли работает наша система сплитования.\n"
   ]
  },
  {
   "cell_type": "code",
   "execution_count": 1,
   "id": "201d5bef-bd2f-4db6-bd2d-b5d41c065fff",
   "metadata": {},
   "outputs": [],
   "source": [
    "from datetime import datetime as dt, timedelta as td\n",
    "import numpy as np\n",
    "import pandas as pd\n",
    "import pandahouse as ph\n",
    "import seaborn as sns\n",
    "from scipy import stats"
   ]
  },
  {
   "cell_type": "code",
   "execution_count": 2,
   "id": "1a3b83ce-de63-4729-9664-1ebd4e075c03",
   "metadata": {},
   "outputs": [],
   "source": [
    "connection = {'host': 'http://172.18.0.1:8123', 'database': 'test'}"
   ]
  },
  {
   "cell_type": "code",
   "execution_count": 3,
   "id": "da1eeec5-9050-4ee2-a7ac-54b8443adaf0",
   "metadata": {},
   "outputs": [
    {
     "name": "stdout",
     "output_type": "stream",
     "text": [
      "Period: ['2022-11-10', '2022-11-16']\n",
      "Datetime delta: 45\n"
     ]
    }
   ],
   "source": [
    "query = \"select value from {db}.ctl_metadata where table='test.feed_actions' and param='timedelta'\"\n",
    "days_shift = int(ph.read_clickhouse(query, connection=connection).min().to_list()[0])\n",
    "\n",
    "period_old = ['2022-09-26', '2022-10-02']\n",
    "period_new = [(dt.strptime(d, '%Y-%m-%d')+td(days=days_shift)).strftime('%Y-%m-%d') for d in period_old]\n",
    "\n",
    "print(\"Period: {}\".format(period_new))\n",
    "print(\"Datetime delta: {}\".format(days_shift))"
   ]
  },
  {
   "cell_type": "code",
   "execution_count": 4,
   "id": "b5e853f7-e498-4b70-8d2b-717f888e3bb8",
   "metadata": {},
   "outputs": [
    {
     "data": {
      "text/html": [
       "<div>\n",
       "<style scoped>\n",
       "    .dataframe tbody tr th:only-of-type {\n",
       "        vertical-align: middle;\n",
       "    }\n",
       "\n",
       "    .dataframe tbody tr th {\n",
       "        vertical-align: top;\n",
       "    }\n",
       "\n",
       "    .dataframe thead th {\n",
       "        text-align: right;\n",
       "    }\n",
       "</style>\n",
       "<table border=\"1\" class=\"dataframe\">\n",
       "  <thead>\n",
       "    <tr style=\"text-align: right;\">\n",
       "      <th></th>\n",
       "      <th>exp_group</th>\n",
       "      <th>user_id</th>\n",
       "      <th>likes</th>\n",
       "      <th>views</th>\n",
       "      <th>ctr</th>\n",
       "    </tr>\n",
       "  </thead>\n",
       "  <tbody>\n",
       "    <tr>\n",
       "      <th>0</th>\n",
       "      <td>2</td>\n",
       "      <td>131914</td>\n",
       "      <td>8</td>\n",
       "      <td>13</td>\n",
       "      <td>0.615385</td>\n",
       "    </tr>\n",
       "    <tr>\n",
       "      <th>1</th>\n",
       "      <td>3</td>\n",
       "      <td>505</td>\n",
       "      <td>6</td>\n",
       "      <td>44</td>\n",
       "      <td>0.136364</td>\n",
       "    </tr>\n",
       "    <tr>\n",
       "      <th>2</th>\n",
       "      <td>3</td>\n",
       "      <td>8859</td>\n",
       "      <td>5</td>\n",
       "      <td>32</td>\n",
       "      <td>0.156250</td>\n",
       "    </tr>\n",
       "    <tr>\n",
       "      <th>3</th>\n",
       "      <td>2</td>\n",
       "      <td>129294</td>\n",
       "      <td>16</td>\n",
       "      <td>90</td>\n",
       "      <td>0.177778</td>\n",
       "    </tr>\n",
       "    <tr>\n",
       "      <th>4</th>\n",
       "      <td>3</td>\n",
       "      <td>4168</td>\n",
       "      <td>12</td>\n",
       "      <td>35</td>\n",
       "      <td>0.342857</td>\n",
       "    </tr>\n",
       "  </tbody>\n",
       "</table>\n",
       "</div>"
      ],
      "text/plain": [
       "   exp_group  user_id  likes  views       ctr\n",
       "0          2   131914      8     13  0.615385\n",
       "1          3      505      6     44  0.136364\n",
       "2          3     8859      5     32  0.156250\n",
       "3          2   129294     16     90  0.177778\n",
       "4          3     4168     12     35  0.342857"
      ]
     },
     "execution_count": 4,
     "metadata": {},
     "output_type": "execute_result"
    }
   ],
   "source": [
    "query = '''\n",
    "    select \n",
    "        exp_group, \n",
    "        user_id,\n",
    "        sum(action = 'like') as likes,\n",
    "        sum(action = 'view') as views,\n",
    "        likes/views as ctr\n",
    "    from test.feed_actions \n",
    "    where exp_group in(2, 3) and toDate(time) between '{}' and '{}'\n",
    "    group by exp_group, user_id\n",
    "'''.format(*period_new)\n",
    "\n",
    "feed_actions_ctr_df = ph.read_clickhouse(query, connection=connection)\n",
    "feed_actions_ctr_df.head()"
   ]
  },
  {
   "cell_type": "code",
   "execution_count": 5,
   "id": "56519d9a-84e1-49bf-8209-c458487fc8ff",
   "metadata": {},
   "outputs": [
    {
     "data": {
      "text/html": [
       "<div>\n",
       "<style scoped>\n",
       "    .dataframe tbody tr th:only-of-type {\n",
       "        vertical-align: middle;\n",
       "    }\n",
       "\n",
       "    .dataframe tbody tr th {\n",
       "        vertical-align: top;\n",
       "    }\n",
       "\n",
       "    .dataframe thead th {\n",
       "        text-align: right;\n",
       "    }\n",
       "</style>\n",
       "<table border=\"1\" class=\"dataframe\">\n",
       "  <thead>\n",
       "    <tr style=\"text-align: right;\">\n",
       "      <th></th>\n",
       "      <th>exp_group</th>\n",
       "      <th>user_id</th>\n",
       "    </tr>\n",
       "  </thead>\n",
       "  <tbody>\n",
       "    <tr>\n",
       "      <th>0</th>\n",
       "      <td>2</td>\n",
       "      <td>8480</td>\n",
       "    </tr>\n",
       "    <tr>\n",
       "      <th>1</th>\n",
       "      <td>3</td>\n",
       "      <td>8569</td>\n",
       "    </tr>\n",
       "  </tbody>\n",
       "</table>\n",
       "</div>"
      ],
      "text/plain": [
       "   exp_group  user_id\n",
       "0          2     8480\n",
       "1          3     8569"
      ]
     },
     "execution_count": 5,
     "metadata": {},
     "output_type": "execute_result"
    }
   ],
   "source": [
    "feed_actions_ctr_df.groupby('exp_group', as_index = False).agg({'user_id': 'count'})"
   ]
  },
  {
   "cell_type": "code",
   "execution_count": 61,
   "id": "84b784b8-640c-4bcc-a5c1-f35efbe0603f",
   "metadata": {},
   "outputs": [
    {
     "data": {
      "image/png": "[encoded data removed]",
      "text/plain": [
       "<Figure size 640x480 with 1 Axes>"
      ]
     },
     "metadata": {},
     "output_type": "display_data"
    }
   ],
   "source": [
    "_ = sns.histplot(data = feed_actions_ctr_df, \n",
    "                 x='ctr', \n",
    "                 hue='exp_group', \n",
    "                 palette = ['r', 'b'],\n",
    "                 alpha=0.5,\n",
    "                 kde=False)"
   ]
  },
  {
   "cell_type": "code",
   "execution_count": 62,
   "id": "8dc51989-c7b8-4b90-802e-de8ff239978e",
   "metadata": {},
   "outputs": [],
   "source": [
    "n_bootstraps = 10000\n",
    "n_samples = 500"
   ]
  },
  {
   "cell_type": "code",
   "execution_count": 63,
   "id": "f7c3c8a8-7230-4b1f-b797-607c44ae68af",
   "metadata": {},
   "outputs": [
    {
     "name": "stdout",
     "output_type": "stream",
     "text": [
      "CPU times: user 8.3 s, sys: 0 ns, total: 8.3 s\n",
      "Wall time: 8.4 s\n"
     ]
    }
   ],
   "source": [
    "%%time\n",
    "\n",
    "group_a1 = feed_actions_ctr_df[feed_actions_ctr_df['exp_group'] == 2]['ctr']\n",
    "group_a2 = feed_actions_ctr_df[feed_actions_ctr_df['exp_group'] == 3]['ctr']\n",
    "\n",
    "p_values = np.array([])\n",
    "for _ in range(n_bootstraps):\n",
    "    statistic, p_value = stats.ttest_ind(group_a1.sample(n=n_samples, replace=False), \n",
    "                                         group_a2.sample(n=n_samples, replace=False), \n",
    "                                         equal_var=True)\n",
    "    p_values = np.append(p_values, p_value)"
   ]
  },
  {
   "cell_type": "code",
   "execution_count": 64,
   "id": "313173c7-febb-4b92-af75-bb899c70e1d0",
   "metadata": {},
   "outputs": [
    {
     "name": "stdout",
     "output_type": "stream",
     "text": [
      "Mean p-value: 0.508134401622959\n"
     ]
    }
   ],
   "source": [
    "print(\"Mean p-value: {}\".format(np.mean(p_values)))"
   ]
  },
  {
   "cell_type": "code",
   "execution_count": 65,
   "id": "e6f11cb1-63ac-4a8a-a938-e899896964d0",
   "metadata": {},
   "outputs": [
    {
     "data": {
      "image/png": "[encoded data removed]",
      "text/plain": [
       "<Figure size 640x480 with 1 Axes>"
      ]
     },
     "metadata": {},
     "output_type": "display_data"
    }
   ],
   "source": [
    "_ = sns.histplot(p_values, kde=True)"
   ]
  },
  {
   "cell_type": "code",
   "execution_count": 66,
   "id": "2e8783f4-de8c-426e-9f72-b3fd1c461753",
   "metadata": {},
   "outputs": [
    {
     "data": {
      "text/plain": [
       "0.0452"
      ]
     },
     "execution_count": 66,
     "metadata": {},
     "output_type": "execute_result"
    }
   ],
   "source": [
    "(p_values<0.05).sum()/n_bootstraps"
   ]
  },
  {
   "cell_type": "code",
   "execution_count": 67,
   "id": "23d52926-aba9-4c78-bd44-2bc36f032b06",
   "metadata": {},
   "outputs": [],
   "source": [
    "h = 0.05\n",
    "eps = 0.01\n",
    "\n",
    "# See what proportion of all samples are covered by other p-values\n",
    "deltas = np.array([])\n",
    "for i in range(1, int(1/h+1)):\n",
    "    p = i * h\n",
    "    delta = ((p-h <= p_values) & (p_values < p)).sum() / n_bootstraps\n",
    "    deltas = np.append(deltas, delta)"
   ]
  },
  {
   "cell_type": "code",
   "execution_count": 68,
   "id": "964b92f4-3c34-4246-89e2-6a4c3219ee51",
   "metadata": {},
   "outputs": [
    {
     "name": "stdout",
     "output_type": "stream",
     "text": [
      "1.0\n"
     ]
    }
   ],
   "source": [
    "print((np.abs(deltas-h)<eps).sum()/len(deltas))"
   ]
  },
  {
   "cell_type": "code",
   "execution_count": 69,
   "id": "9d860b17-afca-4a2f-b6f3-967d81fe6225",
   "metadata": {},
   "outputs": [
    {
     "data": {
      "image/png": "[encoded data removed]",
      "text/plain": [
       "<Figure size 640x480 with 1 Axes>"
      ]
     },
     "metadata": {},
     "output_type": "display_data"
    }
   ],
   "source": [
    "_ = sns.histplot(np.abs(deltas-h), bins=10, kde=True)"
   ]
  },
  {
   "cell_type": "markdown",
   "id": "07dbe031-5eed-4a44-9edc-8ed14d2825f0",
   "metadata": {},
   "source": [
    "Распределение p-значений похоже на равномерное. Можно сделать вывод, что сплитование на группы работает корректно"
   ]
  },
  {
   "cell_type": "code",
   "execution_count": null,
   "id": "add51da3-483c-4f67-b1d2-93d50929d79c",
   "metadata": {},
   "outputs": [],
   "source": []
  },
  {
   "cell_type": "code",
   "execution_count": null,
   "id": "e8bd928b-66b8-4118-b019-4e60b03996a1",
   "metadata": {},
   "outputs": [],
   "source": []
  }
 ],
 "metadata": {
  "kernelspec": {
   "display_name": "Python 3 (ipykernel)",
   "language": "python",
   "name": "python3"
  },
  "language_info": {
   "codemirror_mode": {
    "name": "ipython",
    "version": 3
   },
   "file_extension": ".py",
   "mimetype": "text/x-python",
   "name": "python",
   "nbconvert_exporter": "python",
   "pygments_lexer": "ipython3",
   "version": "3.10.8"
  }
 },
 "nbformat": 4,
 "nbformat_minor": 5
}

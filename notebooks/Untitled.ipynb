{
 "cells": [
  {
   "cell_type": "code",
   "execution_count": 4,
   "id": "4bfba240-5fae-4eb3-b812-7e9b23094f8b",
   "metadata": {},
   "outputs": [],
   "source": [
    "from datetime import datetime as dt, timedelta as td\n",
    "import numpy as np\n",
    "import pandas as pd\n",
    "import pandahouse as ph\n",
    "import seaborn as sns\n",
    "from scipy import stats"
   ]
  },
  {
   "cell_type": "code",
   "execution_count": 5,
   "id": "9ba32544-572c-4cab-9d4b-5c397cbb53a7",
   "metadata": {},
   "outputs": [],
   "source": [
    "connection = {'host': 'http://172.18.0.1:8123', 'database': 'test'}"
   ]
  },
  {
   "cell_type": "code",
   "execution_count": 17,
   "id": "e49c294c-1169-4c34-86f6-d5eae02190db",
   "metadata": {},
   "outputs": [
    {
     "ename": "KeyError",
     "evalue": "''",
     "output_type": "error",
     "traceback": [
      "\u001b[0;31m---------------------------------------------------------------------------\u001b[0m",
      "\u001b[0;31mKeyError\u001b[0m                                  Traceback (most recent call last)",
      "Cell \u001b[0;32mIn[17], line 11\u001b[0m\n\u001b[1;32m      7\u001b[0m query \u001b[38;5;241m=\u001b[39m \u001b[38;5;124m\"\u001b[39m\u001b[38;5;124mtruncate table \u001b[39m\u001b[38;5;132;01m{db}\u001b[39;00m\u001b[38;5;124m.ctl_metadata\u001b[39m\u001b[38;5;124m\"\u001b[39m\n\u001b[1;32m      8\u001b[0m \u001b[38;5;66;03m#query = \"select count(*) from {db}.message_actions\"\u001b[39;00m\n\u001b[0;32m---> 11\u001b[0m df \u001b[38;5;241m=\u001b[39m \u001b[43mph\u001b[49m\u001b[38;5;241;43m.\u001b[39;49m\u001b[43mread_clickhouse\u001b[49m\u001b[43m(\u001b[49m\u001b[43mquery\u001b[49m\u001b[43m,\u001b[49m\u001b[43m \u001b[49m\u001b[43mconnection\u001b[49m\u001b[38;5;241;43m=\u001b[39;49m\u001b[43mconnection\u001b[49m\u001b[43m)\u001b[49m\n\u001b[1;32m     12\u001b[0m df\u001b[38;5;241m.\u001b[39mhead(\u001b[38;5;241m20\u001b[39m)\n",
      "File \u001b[0;32m/opt/conda/lib/python3.10/site-packages/pandahouse/core.py:58\u001b[0m, in \u001b[0;36mread_clickhouse\u001b[0;34m(query, tables, index, connection, **kwargs)\u001b[0m\n\u001b[1;32m     55\u001b[0m query, external \u001b[38;5;241m=\u001b[39m selection(query, tables\u001b[38;5;241m=\u001b[39mtables, index\u001b[38;5;241m=\u001b[39mindex)\n\u001b[1;32m     56\u001b[0m lines \u001b[38;5;241m=\u001b[39m execute(query, external\u001b[38;5;241m=\u001b[39mexternal, stream\u001b[38;5;241m=\u001b[39m\u001b[38;5;28;01mTrue\u001b[39;00m,\n\u001b[1;32m     57\u001b[0m                 connection\u001b[38;5;241m=\u001b[39mconnection)\n\u001b[0;32m---> 58\u001b[0m \u001b[38;5;28;01mreturn\u001b[39;00m \u001b[43mto_dataframe\u001b[49m\u001b[43m(\u001b[49m\u001b[43mlines\u001b[49m\u001b[43m,\u001b[49m\u001b[43m \u001b[49m\u001b[38;5;241;43m*\u001b[39;49m\u001b[38;5;241;43m*\u001b[39;49m\u001b[43mkwargs\u001b[49m\u001b[43m)\u001b[49m\n",
      "File \u001b[0;32m/opt/conda/lib/python3.10/site-packages/pandahouse/convert.py:67\u001b[0m, in \u001b[0;36mto_dataframe\u001b[0;34m(lines, **kwargs)\u001b[0m\n\u001b[1;32m     65\u001b[0m dtypes, parse_dates, converters \u001b[38;5;241m=\u001b[39m {}, [], {}\n\u001b[1;32m     66\u001b[0m \u001b[38;5;28;01mfor\u001b[39;00m name, chtype \u001b[38;5;129;01min\u001b[39;00m \u001b[38;5;28mzip\u001b[39m(names, types):\n\u001b[0;32m---> 67\u001b[0m     dtype \u001b[38;5;241m=\u001b[39m \u001b[43mCH2PD\u001b[49m\u001b[43m[\u001b[49m\u001b[43mchtype\u001b[49m\u001b[43m]\u001b[49m\n\u001b[1;32m     68\u001b[0m     \u001b[38;5;28;01mif\u001b[39;00m dtype \u001b[38;5;241m==\u001b[39m \u001b[38;5;124m'\u001b[39m\u001b[38;5;124mobject\u001b[39m\u001b[38;5;124m'\u001b[39m:\n\u001b[1;32m     69\u001b[0m         converters[name] \u001b[38;5;241m=\u001b[39m decode_escapes\n",
      "\u001b[0;31mKeyError\u001b[0m: ''"
     ]
    }
   ],
   "source": [
    "#query = \"drop table {db}.etl_metadata\"\n",
    "#query = \"insert into {db}.etl_metadata VALUES ({values});\"\n",
    "#values = [\"'{}'\".format(x) for x in ['wew', 'key', 'val', 'NONE']]\n",
    "#query = query.format(db='test', values=', '.join(values))\n",
    "#query = \"select * from {db}.ctl_metadata order by table, param\"\n",
    "#query = \"ALTER TABLE {db}.ctl_metadata DELETE WHERE 1=1;\".format(db='test')\n",
    "query = \"truncate table {db}.ctl_metadata\"\n",
    "#query = \"select count(*) from {db}.message_actions\"\n",
    "\n",
    "\n",
    "df = ph.read_clickhouse(query, connection=connection)\n",
    "df.head(20)"
   ]
  },
  {
   "cell_type": "code",
   "execution_count": 9,
   "id": "778074ed-f54e-43ed-9ef6-74e0629c8479",
   "metadata": {},
   "outputs": [
    {
     "name": "stdout",
     "output_type": "stream",
     "text": [
      "0\n",
      "1\n",
      "2\n",
      "3\n",
      "4\n",
      "wew\n"
     ]
    }
   ],
   "source": [
    "def wew():\n",
    "    for i in range(5):\n",
    "        yield i\n",
    "    print('wew')\n",
    "    \n",
    "for i in wew():\n",
    "    print(i)"
   ]
  },
  {
   "cell_type": "code",
   "execution_count": null,
   "id": "7a87912d-1642-4afc-8c46-bb2f3c0d3bc3",
   "metadata": {},
   "outputs": [],
   "source": []
  },
  {
   "cell_type": "code",
   "execution_count": null,
   "id": "fd9c8694-875f-4a81-97e6-541298314eda",
   "metadata": {},
   "outputs": [],
   "source": []
  },
  {
   "cell_type": "code",
   "execution_count": null,
   "id": "a8342797-13f2-461e-b538-3ab26f07f3da",
   "metadata": {},
   "outputs": [],
   "source": []
  }
 ],
 "metadata": {
  "kernelspec": {
   "display_name": "Python 3 (ipykernel)",
   "language": "python",
   "name": "python3"
  },
  "language_info": {
   "codemirror_mode": {
    "name": "ipython",
    "version": 3
   },
   "file_extension": ".py",
   "mimetype": "text/x-python",
   "name": "python",
   "nbconvert_exporter": "python",
   "pygments_lexer": "ipython3",
   "version": "3.10.8"
  }
 },
 "nbformat": 4,
 "nbformat_minor": 5
}

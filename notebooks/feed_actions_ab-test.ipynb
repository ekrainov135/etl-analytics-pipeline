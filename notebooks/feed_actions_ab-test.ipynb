{
 "cells": [
  {
   "cell_type": "markdown",
   "id": "86f6e9ae-8e44-4d8c-ac85-43f09eb96c87",
   "metadata": {},
   "source": [
    "Эксперимент проходил с 2022-10-03 по 2022-10-09 включительно. Для эксперимента были задействованы 2 и 1 группы. \n",
    "В группе 2 был использован один из новых алгоритмов рекомендации постов, группа 1 использовалась в качестве контроля. \n",
    "Основная гипотеза заключается в том, что новый алгоритм во 2-й группе приведет к увеличению CTR. \n",
    "Ваша задача — проанализировать данные АB-теста. \n",
    "\n",
    "1. Выбрать метод анализа и сравнить CTR в двух группах (мы разбирали t-тест, Пуассоновский бутстреп, тест Манна-Уитни, t-тест на сглаженном ctr (α=5) а также t-тест и тест Манна-Уитни поверх бакетного преобразования).\n",
    "\n",
    "2. Сравните данные этими тестами. А еще посмотрите на распределения глазами. Почему тесты сработали так как сработали? \n",
    "\n",
    "3. Опишите потенциальную ситуацию, когда такое изменение могло произойти. Тут нет идеального ответа, подумайте.\n",
    "\n",
    "4. Напишите рекомендацию, будем ли мы раскатывать новый алгоритм на всех новых пользователей или все-таки не стоит.\n"
   ]
  },
  {
   "cell_type": "code",
   "execution_count": 1,
   "id": "235539c1-18de-445c-bdce-b52d6333008e",
   "metadata": {},
   "outputs": [],
   "source": [
    "from datetime import datetime as dt, timedelta as td\n",
    "import numpy as np\n",
    "import pandas as pd\n",
    "import pandahouse as ph\n",
    "import seaborn as sns\n",
    "import matplotlib.pyplot as plt\n",
    "\n",
    "from utils import get_smoothed_ctr, ab_test_report, bootstrap"
   ]
  },
  {
   "cell_type": "code",
   "execution_count": 2,
   "id": "86892a15-db10-413a-a2a5-f9f7dccc42e0",
   "metadata": {},
   "outputs": [],
   "source": [
    "connection = {'host': 'http://172.18.0.1:8123', 'database': 'test'}"
   ]
  },
  {
   "cell_type": "code",
   "execution_count": 3,
   "id": "215ffe2d-a764-4f4c-a545-ecc64b31b40e",
   "metadata": {},
   "outputs": [],
   "source": [
    "query = \"select value from {db}.ctl_metadata where table='test.feed_actions' and param='timedelta'\"\n",
    "days_shift = int(ph.read_clickhouse(query, connection=connection).min().to_list()[0])\n",
    "\n",
    "period_old = ['2022-10-03', '2022-10-09']\n",
    "period_new = [(dt.strptime(d, '%Y-%m-%d')+td(days=days_shift)).strftime('%Y-%m-%d') for d in period_old]"
   ]
  },
  {
   "cell_type": "code",
   "execution_count": 4,
   "id": "fe927433-9fe8-4ff8-9068-6b0ccda32cd5",
   "metadata": {},
   "outputs": [
    {
     "data": {
      "text/html": [
       "<div>\n",
       "<style scoped>\n",
       "    .dataframe tbody tr th:only-of-type {\n",
       "        vertical-align: middle;\n",
       "    }\n",
       "\n",
       "    .dataframe tbody tr th {\n",
       "        vertical-align: top;\n",
       "    }\n",
       "\n",
       "    .dataframe thead th {\n",
       "        text-align: right;\n",
       "    }\n",
       "</style>\n",
       "<table border=\"1\" class=\"dataframe\">\n",
       "  <thead>\n",
       "    <tr style=\"text-align: right;\">\n",
       "      <th></th>\n",
       "      <th>exp_group</th>\n",
       "      <th>user_id</th>\n",
       "      <th>likes</th>\n",
       "      <th>views</th>\n",
       "      <th>ctr</th>\n",
       "    </tr>\n",
       "  </thead>\n",
       "  <tbody>\n",
       "    <tr>\n",
       "      <th>0</th>\n",
       "      <td>2</td>\n",
       "      <td>131914</td>\n",
       "      <td>48</td>\n",
       "      <td>158</td>\n",
       "      <td>0.303797</td>\n",
       "    </tr>\n",
       "    <tr>\n",
       "      <th>1</th>\n",
       "      <td>1</td>\n",
       "      <td>116668</td>\n",
       "      <td>4</td>\n",
       "      <td>36</td>\n",
       "      <td>0.111111</td>\n",
       "    </tr>\n",
       "    <tr>\n",
       "      <th>2</th>\n",
       "      <td>1</td>\n",
       "      <td>120333</td>\n",
       "      <td>9</td>\n",
       "      <td>29</td>\n",
       "      <td>0.310345</td>\n",
       "    </tr>\n",
       "    <tr>\n",
       "      <th>3</th>\n",
       "      <td>1</td>\n",
       "      <td>32324</td>\n",
       "      <td>9</td>\n",
       "      <td>25</td>\n",
       "      <td>0.360000</td>\n",
       "    </tr>\n",
       "    <tr>\n",
       "      <th>4</th>\n",
       "      <td>2</td>\n",
       "      <td>129294</td>\n",
       "      <td>4</td>\n",
       "      <td>39</td>\n",
       "      <td>0.102564</td>\n",
       "    </tr>\n",
       "  </tbody>\n",
       "</table>\n",
       "</div>"
      ],
      "text/plain": [
       "   exp_group  user_id  likes  views       ctr\n",
       "0          2   131914     48    158  0.303797\n",
       "1          1   116668      4     36  0.111111\n",
       "2          1   120333      9     29  0.310345\n",
       "3          1    32324      9     25  0.360000\n",
       "4          2   129294      4     39  0.102564"
      ]
     },
     "execution_count": 4,
     "metadata": {},
     "output_type": "execute_result"
    }
   ],
   "source": [
    "# Loading data for groups A and B\n",
    "query = '''\n",
    "    select\n",
    "        exp_group, \n",
    "        user_id,\n",
    "        sum(action = 'like') as likes,\n",
    "        sum(action = 'view') as views,\n",
    "        likes/views as ctr\n",
    "    from test.feed_actions \n",
    "    where exp_group in(1, 2) and toDate(time) between '{}' and '{}'\n",
    "    group by exp_group, user_id\n",
    "'''.format(*period_new)\n",
    "\n",
    "feed_actions_df = ph.read_clickhouse(query, connection=connection)\n",
    "feed_actions_df.head(5)"
   ]
  },
  {
   "cell_type": "code",
   "execution_count": 5,
   "id": "29a9089a-7d4b-499d-8f93-84b79e77d8d8",
   "metadata": {},
   "outputs": [
    {
     "name": "stdout",
     "output_type": "stream",
     "text": [
      "Number of unique values in groups\n",
      "\n"
     ]
    },
    {
     "data": {
      "text/html": [
       "<div>\n",
       "<style scoped>\n",
       "    .dataframe tbody tr th:only-of-type {\n",
       "        vertical-align: middle;\n",
       "    }\n",
       "\n",
       "    .dataframe tbody tr th {\n",
       "        vertical-align: top;\n",
       "    }\n",
       "\n",
       "    .dataframe thead th {\n",
       "        text-align: right;\n",
       "    }\n",
       "</style>\n",
       "<table border=\"1\" class=\"dataframe\">\n",
       "  <thead>\n",
       "    <tr style=\"text-align: right;\">\n",
       "      <th></th>\n",
       "      <th>exp_group</th>\n",
       "      <th>user_id</th>\n",
       "    </tr>\n",
       "  </thead>\n",
       "  <tbody>\n",
       "    <tr>\n",
       "      <th>0</th>\n",
       "      <td>1</td>\n",
       "      <td>10079</td>\n",
       "    </tr>\n",
       "    <tr>\n",
       "      <th>1</th>\n",
       "      <td>2</td>\n",
       "      <td>9952</td>\n",
       "    </tr>\n",
       "  </tbody>\n",
       "</table>\n",
       "</div>"
      ],
      "text/plain": [
       "   exp_group  user_id\n",
       "0          1    10079\n",
       "1          2     9952"
      ]
     },
     "execution_count": 5,
     "metadata": {},
     "output_type": "execute_result"
    }
   ],
   "source": [
    "print('Number of unique values in groups', end='\\n\\n')\n",
    "feed_actions_df.groupby('exp_group', as_index = False).agg({'user_id': 'count'})"
   ]
  },
  {
   "cell_type": "code",
   "execution_count": 6,
   "id": "df33584b-9afd-455b-bfb6-a57f77aae871",
   "metadata": {},
   "outputs": [],
   "source": [
    "global_ctr_a = feed_actions_df[feed_actions_df['exp_group']==1]['likes'].sum() / \\\n",
    "               feed_actions_df[feed_actions_df['exp_group']==1]['views'].sum()\n",
    "global_ctr_b = feed_actions_df[feed_actions_df['exp_group']==2]['likes'].sum() / \\\n",
    "               feed_actions_df[feed_actions_df['exp_group']==2]['views'].sum()\n",
    "\n",
    "feed_actions_df.loc[feed_actions_df['exp_group']==1, 'smoothed_ctr'] = \\\n",
    "    feed_actions_df.apply(lambda x: get_smoothed_ctr(x['likes'], x['views'], global_ctr_a, 5), axis=1)\n",
    "feed_actions_df.loc[feed_actions_df['exp_group']==2, 'smoothed_ctr'] = \\\n",
    "    feed_actions_df.apply(lambda x: get_smoothed_ctr(x['likes'], x['views'], global_ctr_b, 5), axis=1)"
   ]
  },
  {
   "cell_type": "code",
   "execution_count": 7,
   "id": "5f34e663-1aab-498a-86d7-be7e4ce457ec",
   "metadata": {},
   "outputs": [],
   "source": [
    "group_a = feed_actions_df[feed_actions_df['exp_group']==1]\n",
    "group_b = feed_actions_df[feed_actions_df['exp_group']==2]"
   ]
  },
  {
   "cell_type": "code",
   "execution_count": 8,
   "id": "8e3672d5-802d-4443-8aa6-605653870682",
   "metadata": {},
   "outputs": [
    {
     "name": "stdout",
     "output_type": "stream",
     "text": [
      "            Control group          Test group\n",
      "Mean CTR:   0.2156                 0.2144\n",
      "Global CTR: 0.2080                 0.1981\n"
     ]
    }
   ],
   "source": [
    "mean_ctr_a = group_a.ctr.mean()\n",
    "mean_ctr_b = group_b.ctr.mean()\n",
    "\n",
    "print(\"{}Control group{}Test group\".format(' '*12, ' '*10))\n",
    "print(\"Mean CTR:   {:>1.4f}{:>23}\".format(np.round(mean_ctr_a, 4), np.round(mean_ctr_b, 4)))\n",
    "print(\"Global CTR: {:>1.4f}{:>23}\".format(np.round(global_ctr_a, 4), np.round(global_ctr_b, 4)))"
   ]
  },
  {
   "cell_type": "code",
   "execution_count": null,
   "id": "2eaade45-12e6-41ab-b70b-2d8c6a055a93",
   "metadata": {},
   "outputs": [],
   "source": []
  },
  {
   "cell_type": "code",
   "execution_count": null,
   "id": "7c1e3780-ac5f-4907-addc-96d922c4bbf6",
   "metadata": {},
   "outputs": [],
   "source": []
  },
  {
   "cell_type": "markdown",
   "id": "ca8a0d74-b215-4702-b073-b55b3742bc16",
   "metadata": {},
   "source": [
    "## Comparison of initial groups"
   ]
  },
  {
   "cell_type": "code",
   "execution_count": 9,
   "id": "2e7166f6-eff1-449a-bd6c-bd5f0f0d0ddd",
   "metadata": {},
   "outputs": [
    {
     "data": {
      "image/png": "[encoded data removed]",
      "text/plain": [
       "<Figure size 2000x1000 with 1 Axes>"
      ]
     },
     "metadata": {},
     "output_type": "display_data"
    }
   ],
   "source": [
    "# Plot a histogram for CTR\n",
    "sns.set(rc={'figure.figsize':(20, 10)}) \n",
    "sns.histplot(data=feed_actions_df, x='ctr', hue='exp_group', palette=['g', 'b'])\n",
    "_ = plt.legend(labels=['Test group', 'Control group'])"
   ]
  },
  {
   "cell_type": "code",
   "execution_count": 10,
   "id": "e746ad0d-2c25-4c8b-8322-6c8cec75f78a",
   "metadata": {},
   "outputs": [
    {
     "data": {
      "image/png": "[encoded data removed]",
      "text/plain": [
       "<Figure size 2000x1000 with 1 Axes>"
      ]
     },
     "metadata": {},
     "output_type": "display_data"
    }
   ],
   "source": [
    "# Plot a histogram for smoothed CTR\n",
    "sns.set(rc={'figure.figsize':(20, 10)}) \n",
    "sns.histplot(data=feed_actions_df, x='smoothed_ctr', hue='exp_group', palette=['g', 'b'])\n",
    "_ = plt.legend(labels=['Test group', 'Control group'])"
   ]
  },
  {
   "cell_type": "code",
   "execution_count": 11,
   "id": "b8913b2d-7195-44be-bbd1-ad9d28aabd01",
   "metadata": {},
   "outputs": [
    {
     "data": {
      "text/html": [
       "<div>\n",
       "<style scoped>\n",
       "    .dataframe tbody tr th:only-of-type {\n",
       "        vertical-align: middle;\n",
       "    }\n",
       "\n",
       "    .dataframe tbody tr th {\n",
       "        vertical-align: top;\n",
       "    }\n",
       "\n",
       "    .dataframe thead tr th {\n",
       "        text-align: left;\n",
       "    }\n",
       "</style>\n",
       "<table border=\"1\" class=\"dataframe\">\n",
       "  <thead>\n",
       "    <tr>\n",
       "      <th></th>\n",
       "      <th colspan=\"2\" halign=\"left\">ctr</th>\n",
       "      <th colspan=\"2\" halign=\"left\">smoothed_ctr</th>\n",
       "    </tr>\n",
       "    <tr>\n",
       "      <th></th>\n",
       "      <th>ttest</th>\n",
       "      <th>mannwhitneyu</th>\n",
       "      <th>ttest</th>\n",
       "      <th>mannwhitneyu</th>\n",
       "    </tr>\n",
       "  </thead>\n",
       "  <tbody>\n",
       "    <tr>\n",
       "      <th>statistic</th>\n",
       "      <td>0.705164</td>\n",
       "      <td>5.659997e+07</td>\n",
       "      <td>2.279138</td>\n",
       "      <td>5.692356e+07</td>\n",
       "    </tr>\n",
       "    <tr>\n",
       "      <th>pvalue</th>\n",
       "      <td>0.480718</td>\n",
       "      <td>6.346628e-56</td>\n",
       "      <td>0.022672</td>\n",
       "      <td>1.722534e-61</td>\n",
       "    </tr>\n",
       "  </tbody>\n",
       "</table>\n",
       "</div>"
      ],
      "text/plain": [
       "                ctr               smoothed_ctr              \n",
       "              ttest  mannwhitneyu        ttest  mannwhitneyu\n",
       "statistic  0.705164  5.659997e+07     2.279138  5.692356e+07\n",
       "pvalue     0.480718  6.346628e-56     0.022672  1.722534e-61"
      ]
     },
     "execution_count": 11,
     "metadata": {},
     "output_type": "execute_result"
    }
   ],
   "source": [
    "ab_test_report(group_a, group_b, metrics=['ctr', 'smoothed_ctr'], ttest={'equal_var': False})"
   ]
  },
  {
   "cell_type": "code",
   "execution_count": null,
   "id": "a0de9028-2799-4de0-a465-2a2efabc18b3",
   "metadata": {},
   "outputs": [],
   "source": []
  },
  {
   "cell_type": "code",
   "execution_count": null,
   "id": "2a3c3f23-de70-422a-86a8-c3999f5f4d1e",
   "metadata": {},
   "outputs": [],
   "source": []
  },
  {
   "cell_type": "markdown",
   "id": "1e00a548-fa93-4f9b-8ff2-9c9168401115",
   "metadata": {},
   "source": [
    "## Bootstrap comparison"
   ]
  },
  {
   "cell_type": "code",
   "execution_count": null,
   "id": "c8e0ee9c-c9cc-4918-8e9c-2c42176ba8d9",
   "metadata": {},
   "outputs": [],
   "source": [
    "N_BOOTS = 5000\n",
    "\n",
    "boot_ctr = bootstrap(group_a.likes.to_numpy(), group_a.views.to_numpy(),\n",
    "                     group_b.likes.to_numpy(), group_b.views.to_numpy(),\n",
    "                     N_BOOTS)"
   ]
  },
  {
   "cell_type": "code",
   "execution_count": null,
   "id": "6a949696-13ac-4a13-a73c-29819202a734",
   "metadata": {},
   "outputs": [],
   "source": [
    "sns.set(rc={'figure.figsize':(20, 10)})\n",
    "sns.histplot(boot_ctr[0], color='g')\n",
    "sns.histplot(boot_ctr[1], color='b')\n",
    "_ = plt.legend(labels=['Control group', 'Test group'])"
   ]
  },
  {
   "cell_type": "code",
   "execution_count": null,
   "id": "81ca212a-64b5-4309-82a3-1937143cb822",
   "metadata": {},
   "outputs": [],
   "source": [
    "boot_diff = (boot_ctr[1]-boot_ctr[0]>0).sum() / N_BOOTS * 100\n",
    "print(\"Test group bootstrap CTR is better than control group in {}% of cases\".format(boot_diff))"
   ]
  },
  {
   "cell_type": "code",
   "execution_count": null,
   "id": "8f3ba9dd-800e-46c5-8b22-7e04effaf670",
   "metadata": {},
   "outputs": [],
   "source": []
  },
  {
   "cell_type": "code",
   "execution_count": null,
   "id": "6e1c8fc2-819c-4878-b75c-8a02e16fd5a6",
   "metadata": {},
   "outputs": [],
   "source": []
  },
  {
   "cell_type": "markdown",
   "id": "b72cde74-e751-469d-b681-8851a6d5ccec",
   "metadata": {},
   "source": [
    "## Buckets comparison"
   ]
  },
  {
   "cell_type": "code",
   "execution_count": null,
   "id": "e602acff-4d5d-4559-9bdc-d337f0abe083",
   "metadata": {},
   "outputs": [],
   "source": [
    "N_BUCKETS = 50\n",
    "\n",
    "buckets_df = feed_actions_df.loc[:, ['exp_group', 'user_id', 'likes', 'views']]\n",
    "buckets_df['bucket'] = pd.util.hash_pandas_object(feed_actions_df.user_id, index=False) % N_BUCKETS\n",
    "buckets_df = buckets_df.groupby(by=['exp_group', 'bucket']).agg({'likes': 'sum', 'views': 'sum'}) \\\n",
    "                       .reset_index()\n",
    "buckets_df['ctr'] = buckets_df.likes / buckets_df.views"
   ]
  },
  {
   "cell_type": "code",
   "execution_count": null,
   "id": "25d4724a-8268-4c4d-aa90-9c70ab2c8585",
   "metadata": {},
   "outputs": [],
   "source": [
    "ab_test_report(buckets_df[buckets_df.exp_group==1], \n",
    "               buckets_df[buckets_df.exp_group==2], \n",
    "               ['ctr'], ttest={'equal_var': False})"
   ]
  },
  {
   "cell_type": "code",
   "execution_count": null,
   "id": "52adcf00-d7c5-40fd-8db5-649315e88099",
   "metadata": {},
   "outputs": [],
   "source": [
    "# Plot a histogram for CTR\n",
    "sns.set(rc={'figure.figsize':(20, 10)}) \n",
    "sns.histplot(data=buckets_df, x='ctr', hue='exp_group', palette = ['g', 'b'])\n",
    "_ = plt.legend(labels=['Test group', 'Control group'])"
   ]
  },
  {
   "cell_type": "code",
   "execution_count": null,
   "id": "1d668b9e-b3a3-4aa6-9f3e-191dfc6e5cd9",
   "metadata": {},
   "outputs": [],
   "source": [
    "boot_diff = (buckets_df[buckets_df.exp_group==2].ctr.to_numpy()- \\\n",
    "             buckets_df[buckets_df.exp_group==1].ctr.to_numpy()>0\n",
    "            ).sum() / N_BUCKETS * 100\n",
    "print(\"Test group bootstrap CTR is better than control group in {}% of cases\".format(boot_diff))"
   ]
  },
  {
   "cell_type": "code",
   "execution_count": null,
   "id": "9427e905-a027-4993-a9cc-2566067b8a39",
   "metadata": {},
   "outputs": [],
   "source": []
  },
  {
   "cell_type": "code",
   "execution_count": null,
   "id": "1d6c98c7-d6c4-401a-956b-fea01085c0b9",
   "metadata": {},
   "outputs": [],
   "source": []
  },
  {
   "cell_type": "markdown",
   "id": "dd8f39ad-769c-4a7c-9cfe-e6abc442ba3b",
   "metadata": {},
   "source": [
    "Сравнение CTR тестом Стьюдента говорит о том, что группы А и Б схожи, и их различия в случае верной нулевой гипотезы могут быть получены с большой вероятностью\n",
    "Результат теста Манна-Уитни показывает, что различия между группами не случайны и, исходя из сравнения распределений групп на гистограмме и сравнений среднего/глобального CTR, имеет более справедливую оценку, чем T-тест\n",
    "\n",
    "Сравнение бутстрапированных и бакетированных выборок показывает, что в подавляющем большинстве случаев CTR контрольной группы имеет более высокое значение\n",
    "\n",
    "### Итог\n",
    "Различия между группами 1 и 2 очень заметны, причем наша метрика(CTR, smothed CTR) показывает худшие результаты на продукте с внесенными изменениями. Примечательно, что если у первой группы распределение CTR унимодальное и относительно близко к нормальному, то распределение CTR группы 2 бимодальное, будто разбито на две группы, сосредоточившиеся у двух мод, которые лежат по разные стороны от средних значений CTR первой группы\n",
    "\n",
    "Возможные причины ухудшения результата на тестовой группе:\n",
    "- до сэмплирования пользователи группы 2 уже учавствовали в другом эксперименте, но в рамках предыдущего эксперимента находились в разных группах, из-за чего произошел эффект \"памяти\", и пользователи теперь уже одной группы отреагировали на нововведения по-разному\n",
    "- изменения в продукте разделили пользователей на две условные группы - пользователи, для которых нововведения оказались благоприятны и пользователи, для которых нововведения оказались не благоприятны\n",
    "- на самом деле алгоритм рекомендаций стал работать лучше, но CTR в данном случае оказался не показательной метрикой\n",
    "\n",
    "\n",
    "### Рекомендация:\n",
    "Использование нового алгоритма может навредить продукту, поэтому раскатывать его не рекомендуется. Можно попробовать сделать повторное перемешивание второй солью и провести еще один тест, добавив помимо CTR другую метрику, например время нахождения пользователя в ленте, но в таком случае предположение об ожидаемом росте метрик нужно выдвинуть заранее\n"
   ]
  },
  {
   "cell_type": "code",
   "execution_count": null,
   "id": "10da5489-b8de-407a-9582-908a3e10fbda",
   "metadata": {},
   "outputs": [],
   "source": []
  }
 ],
 "metadata": {
  "kernelspec": {
   "display_name": "Python 3 (ipykernel)",
   "language": "python",
   "name": "python3"
  },
  "language_info": {
   "codemirror_mode": {
    "name": "ipython",
    "version": 3
   },
   "file_extension": ".py",
   "mimetype": "text/x-python",
   "name": "python",
   "nbconvert_exporter": "python",
   "pygments_lexer": "ipython3",
   "version": "3.10.8"
  }
 },
 "nbformat": 4,
 "nbformat_minor": 5
}
